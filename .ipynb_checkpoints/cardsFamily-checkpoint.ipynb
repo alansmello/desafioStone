{
 "cells": [
  {
   "cell_type": "code",
   "execution_count": 2,
   "metadata": {},
   "outputs": [],
   "source": [
    "#How is card_family classified based on the credit_limit given to each card?\n",
    "\n",
    "import pandas as pd\n",
    "import seaborn as sns\n",
    "import matplotlib.pyplot as plt"
   ]
  },
  {
   "cell_type": "code",
   "execution_count": 3,
   "metadata": {},
   "outputs": [
    {
     "data": {
      "text/html": [
       "<div>\n",
       "<style scoped>\n",
       "    .dataframe tbody tr th:only-of-type {\n",
       "        vertical-align: middle;\n",
       "    }\n",
       "\n",
       "    .dataframe tbody tr th {\n",
       "        vertical-align: top;\n",
       "    }\n",
       "\n",
       "    .dataframe thead th {\n",
       "        text-align: right;\n",
       "    }\n",
       "</style>\n",
       "<table border=\"1\" class=\"dataframe\">\n",
       "  <thead>\n",
       "    <tr style=\"text-align: right;\">\n",
       "      <th></th>\n",
       "      <th>card_number</th>\n",
       "      <th>card_family</th>\n",
       "      <th>credit_limit</th>\n",
       "      <th>customer_id</th>\n",
       "    </tr>\n",
       "  </thead>\n",
       "  <tbody>\n",
       "    <tr>\n",
       "      <th>0</th>\n",
       "      <td>8638-5407-3631-8196</td>\n",
       "      <td>Premium</td>\n",
       "      <td>530000</td>\n",
       "      <td>CC67088</td>\n",
       "    </tr>\n",
       "    <tr>\n",
       "      <th>1</th>\n",
       "      <td>7106-4239-7093-1515</td>\n",
       "      <td>Gold</td>\n",
       "      <td>18000</td>\n",
       "      <td>CC12076</td>\n",
       "    </tr>\n",
       "    <tr>\n",
       "      <th>2</th>\n",
       "      <td>6492-5655-8241-3530</td>\n",
       "      <td>Premium</td>\n",
       "      <td>596000</td>\n",
       "      <td>CC97173</td>\n",
       "    </tr>\n",
       "    <tr>\n",
       "      <th>3</th>\n",
       "      <td>2868-5606-5152-5706</td>\n",
       "      <td>Gold</td>\n",
       "      <td>27000</td>\n",
       "      <td>CC55858</td>\n",
       "    </tr>\n",
       "    <tr>\n",
       "      <th>4</th>\n",
       "      <td>1438-6906-2509-8219</td>\n",
       "      <td>Platinum</td>\n",
       "      <td>142000</td>\n",
       "      <td>CC90518</td>\n",
       "    </tr>\n",
       "    <tr>\n",
       "      <th>5</th>\n",
       "      <td>2764-7023-8396-5255</td>\n",
       "      <td>Gold</td>\n",
       "      <td>50000</td>\n",
       "      <td>CC49168</td>\n",
       "    </tr>\n",
       "    <tr>\n",
       "      <th>6</th>\n",
       "      <td>4864-7119-5608-7611</td>\n",
       "      <td>Premium</td>\n",
       "      <td>781000</td>\n",
       "      <td>CC66746</td>\n",
       "    </tr>\n",
       "    <tr>\n",
       "      <th>7</th>\n",
       "      <td>5160-8427-6529-3274</td>\n",
       "      <td>Premium</td>\n",
       "      <td>490000</td>\n",
       "      <td>CC28930</td>\n",
       "    </tr>\n",
       "    <tr>\n",
       "      <th>8</th>\n",
       "      <td>6691-5105-1556-4131</td>\n",
       "      <td>Premium</td>\n",
       "      <td>640000</td>\n",
       "      <td>CC76766</td>\n",
       "    </tr>\n",
       "    <tr>\n",
       "      <th>9</th>\n",
       "      <td>1481-2536-2178-7547</td>\n",
       "      <td>Premium</td>\n",
       "      <td>653000</td>\n",
       "      <td>CC18007</td>\n",
       "    </tr>\n",
       "  </tbody>\n",
       "</table>\n",
       "</div>"
      ],
      "text/plain": [
       "           card_number card_family  credit_limit customer_id\n",
       "0  8638-5407-3631-8196     Premium        530000     CC67088\n",
       "1  7106-4239-7093-1515        Gold         18000     CC12076\n",
       "2  6492-5655-8241-3530     Premium        596000     CC97173\n",
       "3  2868-5606-5152-5706        Gold         27000     CC55858\n",
       "4  1438-6906-2509-8219    Platinum        142000     CC90518\n",
       "5  2764-7023-8396-5255        Gold         50000     CC49168\n",
       "6  4864-7119-5608-7611     Premium        781000     CC66746\n",
       "7  5160-8427-6529-3274     Premium        490000     CC28930\n",
       "8  6691-5105-1556-4131     Premium        640000     CC76766\n",
       "9  1481-2536-2178-7547     Premium        653000     CC18007"
      ]
     },
     "execution_count": 3,
     "metadata": {},
     "output_type": "execute_result"
    }
   ],
   "source": [
    "#creating the dataframe\n",
    "dfCards = pd.read_csv(\"dataset-cards.csv\", sep=\";\")\n",
    "\n",
    "#view the first 10 lines\n",
    "dfCards.head(10)"
   ]
  },
  {
   "cell_type": "code",
   "execution_count": 4,
   "metadata": {},
   "outputs": [
    {
     "data": {
      "text/plain": [
       "(500, 4)"
      ]
     },
     "execution_count": 4,
     "metadata": {},
     "output_type": "execute_result"
    }
   ],
   "source": [
    "#view size (500 rows, 4 columns )\n",
    "dfCards.shape"
   ]
  },
  {
   "cell_type": "code",
   "execution_count": 5,
   "metadata": {},
   "outputs": [
    {
     "data": {
      "text/plain": [
       "card_family\n",
       "Gold        181\n",
       "Platinum    112\n",
       "Premium     207\n",
       "dtype: int64"
      ]
     },
     "execution_count": 5,
     "metadata": {},
     "output_type": "execute_result"
    }
   ],
   "source": [
    "#total accounts for each cards family\n",
    "grouped = dfCards.groupby(['card_family']).size()\n",
    "grouped"
   ]
  },
  {
   "cell_type": "code",
   "execution_count": 6,
   "metadata": {},
   "outputs": [
    {
     "data": {
      "text/plain": [
       "<matplotlib.axes._subplots.AxesSubplot at 0x201a8237820>"
      ]
     },
     "execution_count": 6,
     "metadata": {},
     "output_type": "execute_result"
    },
    {
     "data": {
      "image/png": "[encoded data removed]",
      "text/plain": [
       "<Figure size 432x288 with 1 Axes>"
      ]
     },
     "metadata": {
      "needs_background": "light"
     },
     "output_type": "display_data"
    }
   ],
   "source": [
    "#graph showing the quantity of each Card Family\n",
    "\n",
    "sns.countplot(x='card_family', data=dfCards)"
   ]
  },
  {
   "cell_type": "code",
   "execution_count": 7,
   "metadata": {},
   "outputs": [
    {
     "data": {
      "text/plain": [
       "count      181.000000\n",
       "mean     27878.453039\n",
       "std      13495.127921\n",
       "min       2000.000000\n",
       "25%      17000.000000\n",
       "50%      28000.000000\n",
       "75%      38000.000000\n",
       "max      50000.000000\n",
       "Name: credit_limit, dtype: float64"
      ]
     },
     "execution_count": 7,
     "metadata": {},
     "output_type": "execute_result"
    }
   ],
   "source": [
    "#we can see that the minimum and maximum amount of the credit limit for the 'GOLD' card family are 2000(Min) and 50000(Max).\n",
    "\n",
    "dfCards[dfCards['card_family']=='Gold']['credit_limit'].describe()"
   ]
  },
  {
   "cell_type": "code",
   "execution_count": 7,
   "metadata": {},
   "outputs": [
    {
     "data": {
      "text/plain": [
       "count       112.000000\n",
       "mean     131294.642857\n",
       "std       43272.369811\n",
       "min       51000.000000\n",
       "25%      101500.000000\n",
       "50%      136500.000000\n",
       "75%      166250.000000\n",
       "max      200000.000000\n",
       "Name: credit_limit, dtype: float64"
      ]
     },
     "execution_count": 7,
     "metadata": {},
     "output_type": "execute_result"
    }
   ],
   "source": [
    "#we can see that the minimum and maximum amount of the credit limit for the 'PLATINUM' card family are 51000(Min) and 200000(Max).\n",
    "\n",
    "dfCards[dfCards['card_family']=='Platinum']['credit_limit'].describe()"
   ]
  },
  {
   "cell_type": "code",
   "execution_count": 8,
   "metadata": {},
   "outputs": [
    {
     "data": {
      "text/plain": [
       "count       207.000000\n",
       "mean     514763.285024\n",
       "std      232013.740397\n",
       "min      108000.000000\n",
       "25%      325000.000000\n",
       "50%      516000.000000\n",
       "75%      710000.000000\n",
       "max      899000.000000\n",
       "Name: credit_limit, dtype: float64"
      ]
     },
     "execution_count": 8,
     "metadata": {},
     "output_type": "execute_result"
    }
   ],
   "source": [
    "#we can see that the minimum and maximum amount of the credit limit for the 'PREMIUM' card family are 108000(Min) and 899000(Max).\n",
    "\n",
    "dfCards[dfCards['card_family']=='Premium']['credit_limit'].describe()"
   ]
  },
  {
   "cell_type": "code",
   "execution_count": 9,
   "metadata": {},
   "outputs": [
    {
     "data": {
      "text/plain": [
       "<seaborn.axisgrid.FacetGrid at 0x201a82def40>"
      ]
     },
     "execution_count": 9,
     "metadata": {},
     "output_type": "execute_result"
    },
    {
     "data": {
      "image/png": "[encoded data removed]",
      "text/plain": [
       "<Figure size 360x360 with 1 Axes>"
      ]
     },
     "metadata": {
      "needs_background": "light"
     },
     "output_type": "display_data"
    }
   ],
   "source": [
    "#in this graph we can see that there are some coincident credit limits, we see that this occurs in the premium and platinum cards family.\n",
    "sns.catplot( x=\"credit_limit\", y=\"card_family\",  data=dfCards)"
   ]
  },
  {
   "cell_type": "code",
   "execution_count": 11,
   "metadata": {},
   "outputs": [
    {
     "data": {
      "text/plain": [
       "card_family\n",
       "Platinum    79\n",
       "Premium     23\n",
       "dtype: int64"
      ]
     },
     "execution_count": 11,
     "metadata": {},
     "output_type": "execute_result"
    }
   ],
   "source": [
    "#It was identified that there is an intersection between the Platinum and Premium card families between the credit limit 108000 and 200000.\n",
    "\n",
    "intersection = dfCards.loc[(dfCards['credit_limit'] >= 108000 )  & ( dfCards['credit_limit'] <=  200000) ]\n",
    "intersection.groupby(['card_family']).size()"
   ]
  },
  {
   "cell_type": "code",
   "execution_count": 12,
   "metadata": {},
   "outputs": [
    {
     "data": {
      "text/plain": [
       "<seaborn.axisgrid.FacetGrid at 0x201a8390e80>"
      ]
     },
     "execution_count": 12,
     "metadata": {},
     "output_type": "execute_result"
    },
    {
     "data": {
      "image/png": "[encoded data removed]",
      "text/plain": [
       "<Figure size 360x360 with 1 Axes>"
      ]
     },
     "metadata": {
      "needs_background": "light"
     },
     "output_type": "display_data"
    }
   ],
   "source": [
    "#this graphic you can see only the intersection mentioned above.\n",
    "sns.catplot( x=\"credit_limit\", y=\"card_family\",  data=intersection)"
   ]
  },
  {
   "cell_type": "code",
   "execution_count": 13,
   "metadata": {},
   "outputs": [
    {
     "data": {
      "text/html": [
       "<div>\n",
       "<style scoped>\n",
       "    .dataframe tbody tr th:only-of-type {\n",
       "        vertical-align: middle;\n",
       "    }\n",
       "\n",
       "    .dataframe tbody tr th {\n",
       "        vertical-align: top;\n",
       "    }\n",
       "\n",
       "    .dataframe thead th {\n",
       "        text-align: right;\n",
       "    }\n",
       "</style>\n",
       "<table border=\"1\" class=\"dataframe\">\n",
       "  <thead>\n",
       "    <tr style=\"text-align: right;\">\n",
       "      <th></th>\n",
       "      <th>card_number</th>\n",
       "      <th>card_family</th>\n",
       "      <th>credit_limit</th>\n",
       "      <th>customer_id</th>\n",
       "    </tr>\n",
       "  </thead>\n",
       "  <tbody>\n",
       "    <tr>\n",
       "      <th>4</th>\n",
       "      <td>1438-6906-2509-8219</td>\n",
       "      <td>Platinum</td>\n",
       "      <td>142000</td>\n",
       "      <td>CC90518</td>\n",
       "    </tr>\n",
       "    <tr>\n",
       "      <th>14</th>\n",
       "      <td>7214-4915-6387-5429</td>\n",
       "      <td>Platinum</td>\n",
       "      <td>172000</td>\n",
       "      <td>CC72302</td>\n",
       "    </tr>\n",
       "    <tr>\n",
       "      <th>35</th>\n",
       "      <td>2640-5294-8252-8817</td>\n",
       "      <td>Platinum</td>\n",
       "      <td>197000</td>\n",
       "      <td>CC70762</td>\n",
       "    </tr>\n",
       "    <tr>\n",
       "      <th>36</th>\n",
       "      <td>1652-7516-1273-1992</td>\n",
       "      <td>Platinum</td>\n",
       "      <td>180000</td>\n",
       "      <td>CC62994</td>\n",
       "    </tr>\n",
       "    <tr>\n",
       "      <th>37</th>\n",
       "      <td>4803-9564-9708-3189</td>\n",
       "      <td>Platinum</td>\n",
       "      <td>109000</td>\n",
       "      <td>CC73157</td>\n",
       "    </tr>\n",
       "    <tr>\n",
       "      <th>...</th>\n",
       "      <td>...</td>\n",
       "      <td>...</td>\n",
       "      <td>...</td>\n",
       "      <td>...</td>\n",
       "    </tr>\n",
       "    <tr>\n",
       "      <th>482</th>\n",
       "      <td>9542-6082-9630-9970</td>\n",
       "      <td>Platinum</td>\n",
       "      <td>159000</td>\n",
       "      <td>CC66351</td>\n",
       "    </tr>\n",
       "    <tr>\n",
       "      <th>486</th>\n",
       "      <td>9753-7718-2196-1448</td>\n",
       "      <td>Platinum</td>\n",
       "      <td>142000</td>\n",
       "      <td>CC97559</td>\n",
       "    </tr>\n",
       "    <tr>\n",
       "      <th>491</th>\n",
       "      <td>5786-2204-6101-1373</td>\n",
       "      <td>Platinum</td>\n",
       "      <td>112000</td>\n",
       "      <td>CC17112</td>\n",
       "    </tr>\n",
       "    <tr>\n",
       "      <th>493</th>\n",
       "      <td>3914-1379-8974-9157</td>\n",
       "      <td>Platinum</td>\n",
       "      <td>160000</td>\n",
       "      <td>CC59638</td>\n",
       "    </tr>\n",
       "    <tr>\n",
       "      <th>497</th>\n",
       "      <td>8706-3809-5167-3899</td>\n",
       "      <td>Premium</td>\n",
       "      <td>144000</td>\n",
       "      <td>CC32532</td>\n",
       "    </tr>\n",
       "  </tbody>\n",
       "</table>\n",
       "<p>102 rows × 4 columns</p>\n",
       "</div>"
      ],
      "text/plain": [
       "             card_number card_family  credit_limit customer_id\n",
       "4    1438-6906-2509-8219    Platinum        142000     CC90518\n",
       "14   7214-4915-6387-5429    Platinum        172000     CC72302\n",
       "35   2640-5294-8252-8817    Platinum        197000     CC70762\n",
       "36   1652-7516-1273-1992    Platinum        180000     CC62994\n",
       "37   4803-9564-9708-3189    Platinum        109000     CC73157\n",
       "..                   ...         ...           ...         ...\n",
       "482  9542-6082-9630-9970    Platinum        159000     CC66351\n",
       "486  9753-7718-2196-1448    Platinum        142000     CC97559\n",
       "491  5786-2204-6101-1373    Platinum        112000     CC17112\n",
       "493  3914-1379-8974-9157    Platinum        160000     CC59638\n",
       "497  8706-3809-5167-3899     Premium        144000     CC32532\n",
       "\n",
       "[102 rows x 4 columns]"
      ]
     },
     "execution_count": 13,
     "metadata": {},
     "output_type": "execute_result"
    }
   ],
   "source": [
    "intersection"
   ]
  }
 ],
 "metadata": {
  "kernelspec": {
   "display_name": "Python 3",
   "language": "python",
   "name": "python3"
  },
  "language_info": {
   "codemirror_mode": {
    "name": "ipython",
    "version": 3
   },
   "file_extension": ".py",
   "mimetype": "text/x-python",
   "name": "python",
   "nbconvert_exporter": "python",
   "pygments_lexer": "ipython3",
   "version": "3.8.3"
  }
 },
 "nbformat": 4,
 "nbformat_minor": 4
}
