{
 "cells": [
  {
   "cell_type": "code",
   "execution_count": 1,
   "metadata": {},
   "outputs": [],
   "source": [
    "#For transactions flagged as fraud, what are the ids of the most valuable transactions?\n",
    "\n",
    "import pandas as pd\n",
    "import seaborn as sns\n"
   ]
  },
  {
   "cell_type": "code",
   "execution_count": 2,
   "metadata": {},
   "outputs": [
    {
     "data": {
      "text/html": [
       "<div>\n",
       "<style scoped>\n",
       "    .dataframe tbody tr th:only-of-type {\n",
       "        vertical-align: middle;\n",
       "    }\n",
       "\n",
       "    .dataframe tbody tr th {\n",
       "        vertical-align: top;\n",
       "    }\n",
       "\n",
       "    .dataframe thead th {\n",
       "        text-align: right;\n",
       "    }\n",
       "</style>\n",
       "<table border=\"1\" class=\"dataframe\">\n",
       "  <thead>\n",
       "    <tr style=\"text-align: right;\">\n",
       "      <th></th>\n",
       "      <th>transaction_id</th>\n",
       "      <th>fraud_flag</th>\n",
       "    </tr>\n",
       "  </thead>\n",
       "  <tbody>\n",
       "    <tr>\n",
       "      <th>0</th>\n",
       "      <td>CTID50558449</td>\n",
       "      <td>True</td>\n",
       "    </tr>\n",
       "    <tr>\n",
       "      <th>1</th>\n",
       "      <td>CTID55936882</td>\n",
       "      <td>True</td>\n",
       "    </tr>\n",
       "    <tr>\n",
       "      <th>2</th>\n",
       "      <td>CTID63762180</td>\n",
       "      <td>True</td>\n",
       "    </tr>\n",
       "    <tr>\n",
       "      <th>3</th>\n",
       "      <td>CTID76723439</td>\n",
       "      <td>True</td>\n",
       "    </tr>\n",
       "    <tr>\n",
       "      <th>4</th>\n",
       "      <td>CTID21246201</td>\n",
       "      <td>True</td>\n",
       "    </tr>\n",
       "  </tbody>\n",
       "</table>\n",
       "</div>"
      ],
      "text/plain": [
       "  transaction_id  fraud_flag\n",
       "0   CTID50558449        True\n",
       "1   CTID55936882        True\n",
       "2   CTID63762180        True\n",
       "3   CTID76723439        True\n",
       "4   CTID21246201        True"
      ]
     },
     "execution_count": 2,
     "metadata": {},
     "output_type": "execute_result"
    }
   ],
   "source": [
    "#creating the dataframes\n",
    "dfFrauds = pd.read_csv(\"dataset-frauds.csv\", sep=\";\")\n",
    "dfTransactions = pd.read_csv(\"dataset-transactions.csv\", sep=\";\")\n",
    "\n",
    "#view the first 5 lines (default)\n",
    "dfFrauds.head()"
   ]
  },
  {
   "cell_type": "code",
   "execution_count": 5,
   "metadata": {},
   "outputs": [
    {
     "data": {
      "text/plain": [
       "(109, 2)"
      ]
     },
     "execution_count": 5,
     "metadata": {},
     "output_type": "execute_result"
    }
   ],
   "source": [
    "#109 lines; 2 columns\n",
    "dfFrauds.shape"
   ]
  },
  {
   "cell_type": "code",
   "execution_count": 6,
   "metadata": {},
   "outputs": [
    {
     "data": {
      "text/html": [
       "<div>\n",
       "<style scoped>\n",
       "    .dataframe tbody tr th:only-of-type {\n",
       "        vertical-align: middle;\n",
       "    }\n",
       "\n",
       "    .dataframe tbody tr th {\n",
       "        vertical-align: top;\n",
       "    }\n",
       "\n",
       "    .dataframe thead th {\n",
       "        text-align: right;\n",
       "    }\n",
       "</style>\n",
       "<table border=\"1\" class=\"dataframe\">\n",
       "  <thead>\n",
       "    <tr style=\"text-align: right;\">\n",
       "      <th></th>\n",
       "      <th>id</th>\n",
       "      <th>card_number</th>\n",
       "      <th>transaction_date</th>\n",
       "      <th>value</th>\n",
       "      <th>segment</th>\n",
       "    </tr>\n",
       "  </thead>\n",
       "  <tbody>\n",
       "    <tr>\n",
       "      <th>0</th>\n",
       "      <td>CTID28830551</td>\n",
       "      <td>1629-9566-3285-2123</td>\n",
       "      <td>2016-04-24</td>\n",
       "      <td>23649</td>\n",
       "      <td>SEG25</td>\n",
       "    </tr>\n",
       "    <tr>\n",
       "      <th>1</th>\n",
       "      <td>CTID45504917</td>\n",
       "      <td>3697-6001-4909-5350</td>\n",
       "      <td>2016-02-11</td>\n",
       "      <td>26726</td>\n",
       "      <td>SEG16</td>\n",
       "    </tr>\n",
       "    <tr>\n",
       "      <th>2</th>\n",
       "      <td>CTID47312290</td>\n",
       "      <td>5864-4475-3659-1440</td>\n",
       "      <td>2016-11-01</td>\n",
       "      <td>22012</td>\n",
       "      <td>SEG14</td>\n",
       "    </tr>\n",
       "    <tr>\n",
       "      <th>3</th>\n",
       "      <td>CTID25637718</td>\n",
       "      <td>5991-4421-8476-3804</td>\n",
       "      <td>2016-01-28</td>\n",
       "      <td>37637</td>\n",
       "      <td>SEG17</td>\n",
       "    </tr>\n",
       "    <tr>\n",
       "      <th>4</th>\n",
       "      <td>CTID66743960</td>\n",
       "      <td>1893-8853-9900-8478</td>\n",
       "      <td>2016-03-17</td>\n",
       "      <td>5113</td>\n",
       "      <td>SEG14</td>\n",
       "    </tr>\n",
       "  </tbody>\n",
       "</table>\n",
       "</div>"
      ],
      "text/plain": [
       "             id          card_number transaction_date  value segment\n",
       "0  CTID28830551  1629-9566-3285-2123       2016-04-24  23649   SEG25\n",
       "1  CTID45504917  3697-6001-4909-5350       2016-02-11  26726   SEG16\n",
       "2  CTID47312290  5864-4475-3659-1440       2016-11-01  22012   SEG14\n",
       "3  CTID25637718  5991-4421-8476-3804       2016-01-28  37637   SEG17\n",
       "4  CTID66743960  1893-8853-9900-8478       2016-03-17   5113   SEG14"
      ]
     },
     "execution_count": 6,
     "metadata": {},
     "output_type": "execute_result"
    }
   ],
   "source": [
    "#view the first 5 lines (default)\n",
    "dfTransactions.head()"
   ]
  },
  {
   "cell_type": "code",
   "execution_count": 7,
   "metadata": {},
   "outputs": [
    {
     "data": {
      "text/plain": [
       "(10000, 5)"
      ]
     },
     "execution_count": 7,
     "metadata": {},
     "output_type": "execute_result"
    }
   ],
   "source": [
    "#10.000 lines; 5 columns\n",
    "dfTransactions.shape"
   ]
  },
  {
   "cell_type": "code",
   "execution_count": 4,
   "metadata": {},
   "outputs": [
    {
     "data": {
      "text/html": [
       "<div>\n",
       "<style scoped>\n",
       "    .dataframe tbody tr th:only-of-type {\n",
       "        vertical-align: middle;\n",
       "    }\n",
       "\n",
       "    .dataframe tbody tr th {\n",
       "        vertical-align: top;\n",
       "    }\n",
       "\n",
       "    .dataframe thead th {\n",
       "        text-align: right;\n",
       "    }\n",
       "</style>\n",
       "<table border=\"1\" class=\"dataframe\">\n",
       "  <thead>\n",
       "    <tr style=\"text-align: right;\">\n",
       "      <th></th>\n",
       "      <th>id</th>\n",
       "      <th>fraud_flag</th>\n",
       "      <th>value</th>\n",
       "    </tr>\n",
       "  </thead>\n",
       "  <tbody>\n",
       "    <tr>\n",
       "      <th>6</th>\n",
       "      <td>CTID20567160</td>\n",
       "      <td>True</td>\n",
       "      <td>49155</td>\n",
       "    </tr>\n",
       "    <tr>\n",
       "      <th>100</th>\n",
       "      <td>CTID15034243</td>\n",
       "      <td>True</td>\n",
       "      <td>48845</td>\n",
       "    </tr>\n",
       "    <tr>\n",
       "      <th>48</th>\n",
       "      <td>CTID95884307</td>\n",
       "      <td>True</td>\n",
       "      <td>48588</td>\n",
       "    </tr>\n",
       "    <tr>\n",
       "      <th>7</th>\n",
       "      <td>CTID54759604</td>\n",
       "      <td>True</td>\n",
       "      <td>48567</td>\n",
       "    </tr>\n",
       "    <tr>\n",
       "      <th>41</th>\n",
       "      <td>CTID55429304</td>\n",
       "      <td>True</td>\n",
       "      <td>48514</td>\n",
       "    </tr>\n",
       "    <tr>\n",
       "      <th>27</th>\n",
       "      <td>CTID29469747</td>\n",
       "      <td>True</td>\n",
       "      <td>48453</td>\n",
       "    </tr>\n",
       "    <tr>\n",
       "      <th>3</th>\n",
       "      <td>CTID76723439</td>\n",
       "      <td>True</td>\n",
       "      <td>48275</td>\n",
       "    </tr>\n",
       "    <tr>\n",
       "      <th>74</th>\n",
       "      <td>CTID85085771</td>\n",
       "      <td>True</td>\n",
       "      <td>48186</td>\n",
       "    </tr>\n",
       "    <tr>\n",
       "      <th>25</th>\n",
       "      <td>CTID25962688</td>\n",
       "      <td>True</td>\n",
       "      <td>45807</td>\n",
       "    </tr>\n",
       "    <tr>\n",
       "      <th>22</th>\n",
       "      <td>CTID60575167</td>\n",
       "      <td>True</td>\n",
       "      <td>45760</td>\n",
       "    </tr>\n",
       "  </tbody>\n",
       "</table>\n",
       "</div>"
      ],
      "text/plain": [
       "               id  fraud_flag  value\n",
       "6    CTID20567160        True  49155\n",
       "100  CTID15034243        True  48845\n",
       "48   CTID95884307        True  48588\n",
       "7    CTID54759604        True  48567\n",
       "41   CTID55429304        True  48514\n",
       "27   CTID29469747        True  48453\n",
       "3    CTID76723439        True  48275\n",
       "74   CTID85085771        True  48186\n",
       "25   CTID25962688        True  45807\n",
       "22   CTID60575167        True  45760"
      ]
     },
     "execution_count": 4,
     "metadata": {},
     "output_type": "execute_result"
    }
   ],
   "source": [
    "#rename the column name.\n",
    "dfFrauds = dfFrauds.rename(columns={'transaction_id':'id'})\n",
    "\n",
    "#merge two dataframes.\n",
    "newdf = pd.merge(dfFrauds, dfTransactions[['id', 'value']], how = 'inner', on = 'id')\n",
    "\n",
    "#the  IDs  of the first 10 most valuable transactions.\n",
    "newdf.nlargest(10, 'value')"
   ]
  },
  {
   "cell_type": "code",
   "execution_count": 8,
   "metadata": {},
   "outputs": [
    {
     "data": {
      "text/plain": [
       "<seaborn.axisgrid.FacetGrid at 0x181af98d430>"
      ]
     },
     "execution_count": 8,
     "metadata": {},
     "output_type": "execute_result"
    },
    {
     "data": {
      "image/png": "[encoded data removed]",
      "text/plain": [
       "<Figure size 360x360 with 1 Axes>"
      ]
     },
     "metadata": {
      "needs_background": "light"
     },
     "output_type": "display_data"
    }
   ],
   "source": [
    "#In this graph we can see the 10 biggest fraudulent transactions, with the transaction value on the x-axis and their respective IDs on the y-axis.\n",
    "viewDf = newdf.nlargest(10, 'value')\n",
    "sns.catplot(x= \"value\",y=\"id\", data=viewDf)"
   ]
  }
 ],
 "metadata": {
  "kernelspec": {
   "display_name": "Python 3",
   "language": "python",
   "name": "python3"
  },
  "language_info": {
   "codemirror_mode": {
    "name": "ipython",
    "version": 3
   },
   "file_extension": ".py",
   "mimetype": "text/x-python",
   "name": "python",
   "nbconvert_exporter": "python",
   "pygments_lexer": "ipython3",
   "version": "3.8.3"
  }
 },
 "nbformat": 4,
 "nbformat_minor": 4
}
