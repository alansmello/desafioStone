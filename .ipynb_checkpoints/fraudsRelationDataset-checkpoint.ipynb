{
 "cells": [
  {
   "cell_type": "code",
   "execution_count": 1,
   "metadata": {},
   "outputs": [],
   "source": [
    "#Analyze whether fraudulent transactions are in any way associated with other data set resources. Explain your results.\n",
    "\n",
    "import pandas as pd\n",
    "import seaborn as sns\n"
   ]
  },
  {
   "cell_type": "code",
   "execution_count": 20,
   "metadata": {},
   "outputs": [],
   "source": [
    "#creating the dataframes\n",
    "dfFrauds = pd.read_csv(\"dataset-frauds.csv\", sep=\";\")\n",
    "dfCards = pd.read_csv(\"dataset-cards.csv\", sep=\";\")\n",
    "dfTransactions = pd.read_csv(\"dataset-transactions.csv\", sep=\";\")\n",
    "dfCustomers = pd.read_csv(\"dataset-customers.csv\", sep=\";\")\n"
   ]
  },
  {
   "cell_type": "code",
   "execution_count": 3,
   "metadata": {},
   "outputs": [
    {
     "data": {
      "text/html": [
       "<div>\n",
       "<style scoped>\n",
       "    .dataframe tbody tr th:only-of-type {\n",
       "        vertical-align: middle;\n",
       "    }\n",
       "\n",
       "    .dataframe tbody tr th {\n",
       "        vertical-align: top;\n",
       "    }\n",
       "\n",
       "    .dataframe thead th {\n",
       "        text-align: right;\n",
       "    }\n",
       "</style>\n",
       "<table border=\"1\" class=\"dataframe\">\n",
       "  <thead>\n",
       "    <tr style=\"text-align: right;\">\n",
       "      <th></th>\n",
       "      <th>id</th>\n",
       "      <th>fraud_flag</th>\n",
       "      <th>card_number</th>\n",
       "      <th>transaction_date</th>\n",
       "      <th>value</th>\n",
       "      <th>segment_x</th>\n",
       "      <th>customer_id</th>\n",
       "      <th>card_family</th>\n",
       "      <th>credit_limit</th>\n",
       "      <th>segment_y</th>\n",
       "      <th>age</th>\n",
       "      <th>vintage_group</th>\n",
       "    </tr>\n",
       "  </thead>\n",
       "  <tbody>\n",
       "    <tr>\n",
       "      <th>0</th>\n",
       "      <td>CTID50558449</td>\n",
       "      <td>True</td>\n",
       "      <td>4246-1369-3659-8804</td>\n",
       "      <td>2016-05-06</td>\n",
       "      <td>6984</td>\n",
       "      <td>SEG23</td>\n",
       "      <td>CC21111</td>\n",
       "      <td>Platinum</td>\n",
       "      <td>105000</td>\n",
       "      <td>Platinum</td>\n",
       "      <td>43</td>\n",
       "      <td>VG2</td>\n",
       "    </tr>\n",
       "    <tr>\n",
       "      <th>1</th>\n",
       "      <td>CTID55936882</td>\n",
       "      <td>True</td>\n",
       "      <td>1336-9200-1264-2551</td>\n",
       "      <td>2016-11-29</td>\n",
       "      <td>34367</td>\n",
       "      <td>SEG21</td>\n",
       "      <td>CC16420</td>\n",
       "      <td>Premium</td>\n",
       "      <td>280000</td>\n",
       "      <td>Gold</td>\n",
       "      <td>22</td>\n",
       "      <td>VG3</td>\n",
       "    </tr>\n",
       "    <tr>\n",
       "      <th>2</th>\n",
       "      <td>CTID63762180</td>\n",
       "      <td>True</td>\n",
       "      <td>8528-6154-7390-5081</td>\n",
       "      <td>2016-12-05</td>\n",
       "      <td>44550</td>\n",
       "      <td>SEG15</td>\n",
       "      <td>CC90833</td>\n",
       "      <td>Premium</td>\n",
       "      <td>686000</td>\n",
       "      <td>Diamond</td>\n",
       "      <td>32</td>\n",
       "      <td>VG1</td>\n",
       "    </tr>\n",
       "    <tr>\n",
       "      <th>3</th>\n",
       "      <td>CTID76723439</td>\n",
       "      <td>True</td>\n",
       "      <td>7908-2695-7391-7499</td>\n",
       "      <td>2016-09-15</td>\n",
       "      <td>48275</td>\n",
       "      <td>SEG16</td>\n",
       "      <td>CC53797</td>\n",
       "      <td>Gold</td>\n",
       "      <td>34000</td>\n",
       "      <td>Diamond</td>\n",
       "      <td>35</td>\n",
       "      <td>VG1</td>\n",
       "    </tr>\n",
       "    <tr>\n",
       "      <th>4</th>\n",
       "      <td>CTID21246201</td>\n",
       "      <td>True</td>\n",
       "      <td>2524-4184-5908-6750</td>\n",
       "      <td>2016-02-29</td>\n",
       "      <td>35751</td>\n",
       "      <td>SEG25</td>\n",
       "      <td>CC69171</td>\n",
       "      <td>Platinum</td>\n",
       "      <td>150000</td>\n",
       "      <td>Diamond</td>\n",
       "      <td>41</td>\n",
       "      <td>VG1</td>\n",
       "    </tr>\n",
       "  </tbody>\n",
       "</table>\n",
       "</div>"
      ],
      "text/plain": [
       "             id  fraud_flag          card_number transaction_date  value  \\\n",
       "0  CTID50558449        True  4246-1369-3659-8804       2016-05-06   6984   \n",
       "1  CTID55936882        True  1336-9200-1264-2551       2016-11-29  34367   \n",
       "2  CTID63762180        True  8528-6154-7390-5081       2016-12-05  44550   \n",
       "3  CTID76723439        True  7908-2695-7391-7499       2016-09-15  48275   \n",
       "4  CTID21246201        True  2524-4184-5908-6750       2016-02-29  35751   \n",
       "\n",
       "  segment_x customer_id card_family  credit_limit segment_y  age vintage_group  \n",
       "0     SEG23     CC21111    Platinum        105000  Platinum   43           VG2  \n",
       "1     SEG21     CC16420     Premium        280000      Gold   22           VG3  \n",
       "2     SEG15     CC90833     Premium        686000   Diamond   32           VG1  \n",
       "3     SEG16     CC53797        Gold         34000   Diamond   35           VG1  \n",
       "4     SEG25     CC69171    Platinum        150000   Diamond   41           VG1  "
      ]
     },
     "execution_count": 3,
     "metadata": {},
     "output_type": "execute_result"
    }
   ],
   "source": [
    "#rename the column name.\n",
    "dfFrauds = dfFrauds. rename(columns={'transaction_id':'id'})\n",
    "\n",
    "#merge dataframes - the Data Frame that indicates fraud and the dataset-transactions, merging by id.\n",
    "newdf = pd.merge(dfFrauds, dfTransactions[['id', 'card_number', 'transaction_date', 'value','segment' ]], how = 'inner', on = 'id')\n",
    "\n",
    "#merge dataframes, from the dataframe created earlier (newdf), merge with the dataset-cards, merging by card_number.\n",
    "newdf2 = pd.merge(newdf, dfCards[['card_number', 'customer_id', 'card_family','credit_limit' ]], how = 'inner', on = 'card_number')\n",
    "\n",
    "#rename the column name.\n",
    "dfCustomers = dfCustomers.rename(columns={'id':'customer_id'})\n",
    "\n",
    "#merge dataframes, from the dataframe created earlier (newdf2), merge with the dataset-customers, merging by customer-id.\n",
    "newdf3 = pd.merge(newdf2, dfCustomers[['customer_id', 'segment', 'age', 'vintage_group']], how = 'inner', on = 'customer_id')\n",
    "\n",
    "#I associated the dataset of fraud, with all the other datasets. To from there do the analysis.\n",
    " \n",
    "newdf3.head()\n"
   ]
  },
  {
   "cell_type": "code",
   "execution_count": 6,
   "metadata": {},
   "outputs": [
    {
     "data": {
      "text/plain": [
       "(109, 12)"
      ]
     },
     "execution_count": 6,
     "metadata": {},
     "output_type": "execute_result"
    }
   ],
   "source": [
    "#109 lines; 12 columns\n",
    "newdf3.shape"
   ]
  },
  {
   "cell_type": "code",
   "execution_count": 7,
   "metadata": {},
   "outputs": [
    {
     "data": {
      "text/plain": [
       "CTID20456246    1\n",
       "CTID21246201    1\n",
       "CTID65786114    1\n",
       "CTID38789752    1\n",
       "CTID96772424    1\n",
       "               ..\n",
       "CTID73773088    1\n",
       "CTID50558449    1\n",
       "CTID63195033    1\n",
       "CTID92439353    1\n",
       "CTID57993591    1\n",
       "Name: id, Length: 109, dtype: int64"
      ]
     },
     "execution_count": 7,
     "metadata": {},
     "output_type": "execute_result"
    }
   ],
   "source": [
    "#here we can see that there is no repetition with respect to the Ids of the fraudulent transactions.\n",
    "newdf3['id'].value_counts()"
   ]
  },
  {
   "cell_type": "code",
   "execution_count": 16,
   "metadata": {},
   "outputs": [
    {
     "data": {
      "text/plain": [
       "CC36771    2\n",
       "CC95072    2\n",
       "CC71365    2\n",
       "CC68752    2\n",
       "CC60926    2\n",
       "          ..\n",
       "CC72302    1\n",
       "CC68567    1\n",
       "CC70548    1\n",
       "CC37643    1\n",
       "CC81000    1\n",
       "Name: customer_id, Length: 97, dtype: int64"
      ]
     },
     "execution_count": 16,
     "metadata": {},
     "output_type": "execute_result"
    }
   ],
   "source": [
    "\"\"\"Here we also did not see any suspicious relationship in the column 'customer_id' (this one from 'dataset-customers.csv'), \n",
    "given that there are few repetitions.\"\"\"\n",
    "\n",
    "newdf3['customer_id'].value_counts()"
   ]
  },
  {
   "cell_type": "code",
   "execution_count": 8,
   "metadata": {},
   "outputs": [
    {
     "data": {
      "text/plain": [
       "1290-5480-3763-3387    2\n",
       "9604-6821-2861-8084    2\n",
       "3620-5235-2101-3391    2\n",
       "9030-1667-6058-6173    2\n",
       "3295-6390-4452-7199    2\n",
       "                      ..\n",
       "4310-3710-6743-6385    1\n",
       "8106-9789-1679-2552    1\n",
       "9721-7299-5635-3504    1\n",
       "6321-2048-7733-8765    1\n",
       "7586-6475-9618-3909    1\n",
       "Name: card_number, Length: 98, dtype: int64"
      ]
     },
     "execution_count": 8,
     "metadata": {},
     "output_type": "execute_result"
    }
   ],
   "source": [
    "\"\"\"here we can also observe that there are not many repetitions of card numbers, \n",
    "so i understand that there is no relation to fraudulent transactions.\"\"\"\n",
    "\n",
    "newdf3['card_number'].value_counts()"
   ]
  },
  {
   "cell_type": "code",
   "execution_count": 9,
   "metadata": {},
   "outputs": [
    {
     "data": {
      "text/plain": [
       "2016-05-06    2\n",
       "2016-12-05    2\n",
       "2016-05-25    2\n",
       "2016-07-06    2\n",
       "2016-03-16    2\n",
       "             ..\n",
       "2016-01-19    1\n",
       "2016-07-24    1\n",
       "2016-03-30    1\n",
       "2016-06-30    1\n",
       "2016-02-21    1\n",
       "Name: transaction_date, Length: 95, dtype: int64"
      ]
     },
     "execution_count": 9,
     "metadata": {},
     "output_type": "execute_result"
    }
   ],
   "source": [
    "#here we can see that there was no relationship with any specific date, so it does not indicate a relationship.\n",
    "newdf3['transaction_date'].value_counts()"
   ]
  },
  {
   "cell_type": "code",
   "execution_count": 10,
   "metadata": {},
   "outputs": [
    {
     "data": {
      "text/plain": [
       "<seaborn.axisgrid.FacetGrid at 0x264bbe8f5e0>"
      ]
     },
     "execution_count": 10,
     "metadata": {},
     "output_type": "execute_result"
    },
    {
     "data": {
      "image/png": "[encoded data removed]",
      "text/plain": [
       "<Figure size 440.375x360 with 1 Axes>"
      ]
     },
     "metadata": {
      "needs_background": "light"
     },
     "output_type": "display_data"
    }
   ],
   "source": [
    "#In this graph, we can see that there is no relationship or coincidence between values of fraudulent transactions, transaction segments and card families.\n",
    "sns.catplot(x=\"value\", y=\"segment_x\", hue='card_family',data = newdf3)"
   ]
  },
  {
   "cell_type": "code",
   "execution_count": 15,
   "metadata": {},
   "outputs": [
    {
     "data": {
      "text/plain": [
       "<seaborn.axisgrid.FacetGrid at 0x264bbe50310>"
      ]
     },
     "execution_count": 15,
     "metadata": {},
     "output_type": "execute_result"
    },
    {
     "data": {
      "image/png": "[encoded data removed]",
      "text/plain": [
       "<Figure size 441.125x360 with 1 Axes>"
      ]
     },
     "metadata": {
      "needs_background": "light"
     },
     "output_type": "display_data"
    }
   ],
   "source": [
    "\"\"\"In this graph, similar to the previous one, we changed the column 'card_family' to 'segment_y' (this one from 'dataset-customers.csv') \n",
    "and we also did not observe any suspicious or coincidental relationship.\"\"\"\n",
    "\n",
    "sns.catplot(x=\"value\", y=\"segment_x\", hue='segment_y',data = newdf3)"
   ]
  },
  {
   "cell_type": "code",
   "execution_count": 19,
   "metadata": {},
   "outputs": [
    {
     "data": {
      "text/plain": [
       "<seaborn.axisgrid.FacetGrid at 0x264bc0a02b0>"
      ]
     },
     "execution_count": 19,
     "metadata": {},
     "output_type": "execute_result"
    },
    {
     "data": {
      "image/png": "[encoded data removed]",
      "text/plain": [
       "<Figure size 360x360 with 1 Axes>"
      ]
     },
     "metadata": {
      "needs_background": "light"
     },
     "output_type": "display_data"
    }
   ],
   "source": [
    "#In this graph with respect to age, also no suspicious coincidence.\n",
    "sns.catplot(x=\"age\",kind='count', data = newdf3)"
   ]
  },
  {
   "cell_type": "code",
   "execution_count": null,
   "metadata": {},
   "outputs": [],
   "source": [
    "\"\"\"After analysis, I can conclude, in response to the challenge question, \n",
    "that there was no evidence that fraudulent transactions are in any way \n",
    "associated with other features of the data set.\"\"\"\n"
   ]
  }
 ],
 "metadata": {
  "kernelspec": {
   "display_name": "Python 3",
   "language": "python",
   "name": "python3"
  },
  "language_info": {
   "codemirror_mode": {
    "name": "ipython",
    "version": 3
   },
   "file_extension": ".py",
   "mimetype": "text/x-python",
   "name": "python",
   "nbconvert_exporter": "python",
   "pygments_lexer": "ipython3",
   "version": "3.8.3"
  }
 },
 "nbformat": 4,
 "nbformat_minor": 4
}
