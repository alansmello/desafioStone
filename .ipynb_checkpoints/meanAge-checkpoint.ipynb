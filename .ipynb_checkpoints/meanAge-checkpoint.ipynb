{
 "cells": [
  {
   "cell_type": "code",
   "execution_count": 1,
   "metadata": {},
   "outputs": [],
   "source": [
    "#What is the average age of customers in the database?\n",
    "import pandas as pd\n",
    "import seaborn as sns\n"
   ]
  },
  {
   "cell_type": "code",
   "execution_count": 2,
   "metadata": {},
   "outputs": [
    {
     "data": {
      "text/html": [
       "<div>\n",
       "<style scoped>\n",
       "    .dataframe tbody tr th:only-of-type {\n",
       "        vertical-align: middle;\n",
       "    }\n",
       "\n",
       "    .dataframe tbody tr th {\n",
       "        vertical-align: top;\n",
       "    }\n",
       "\n",
       "    .dataframe thead th {\n",
       "        text-align: right;\n",
       "    }\n",
       "</style>\n",
       "<table border=\"1\" class=\"dataframe\">\n",
       "  <thead>\n",
       "    <tr style=\"text-align: right;\">\n",
       "      <th></th>\n",
       "      <th>id</th>\n",
       "      <th>age</th>\n",
       "      <th>segment</th>\n",
       "      <th>vintage_group</th>\n",
       "    </tr>\n",
       "  </thead>\n",
       "  <tbody>\n",
       "    <tr>\n",
       "      <th>0</th>\n",
       "      <td>CC25034</td>\n",
       "      <td>35</td>\n",
       "      <td>Diamond</td>\n",
       "      <td>VG1</td>\n",
       "    </tr>\n",
       "    <tr>\n",
       "      <th>1</th>\n",
       "      <td>CC59625</td>\n",
       "      <td>22</td>\n",
       "      <td>Diamond</td>\n",
       "      <td>VG1</td>\n",
       "    </tr>\n",
       "    <tr>\n",
       "      <th>2</th>\n",
       "      <td>CC69314</td>\n",
       "      <td>33</td>\n",
       "      <td>Diamond</td>\n",
       "      <td>VG1</td>\n",
       "    </tr>\n",
       "    <tr>\n",
       "      <th>3</th>\n",
       "      <td>CC67036</td>\n",
       "      <td>46</td>\n",
       "      <td>Diamond</td>\n",
       "      <td>VG1</td>\n",
       "    </tr>\n",
       "    <tr>\n",
       "      <th>4</th>\n",
       "      <td>CC25597</td>\n",
       "      <td>44</td>\n",
       "      <td>Diamond</td>\n",
       "      <td>VG1</td>\n",
       "    </tr>\n",
       "    <tr>\n",
       "      <th>5</th>\n",
       "      <td>CC57469</td>\n",
       "      <td>22</td>\n",
       "      <td>Diamond</td>\n",
       "      <td>VG1</td>\n",
       "    </tr>\n",
       "    <tr>\n",
       "      <th>6</th>\n",
       "      <td>CC15926</td>\n",
       "      <td>50</td>\n",
       "      <td>Diamond</td>\n",
       "      <td>VG1</td>\n",
       "    </tr>\n",
       "    <tr>\n",
       "      <th>7</th>\n",
       "      <td>CC31951</td>\n",
       "      <td>46</td>\n",
       "      <td>Diamond</td>\n",
       "      <td>VG1</td>\n",
       "    </tr>\n",
       "    <tr>\n",
       "      <th>8</th>\n",
       "      <td>CC32388</td>\n",
       "      <td>26</td>\n",
       "      <td>Diamond</td>\n",
       "      <td>VG1</td>\n",
       "    </tr>\n",
       "    <tr>\n",
       "      <th>9</th>\n",
       "      <td>CC48802</td>\n",
       "      <td>44</td>\n",
       "      <td>Diamond</td>\n",
       "      <td>VG1</td>\n",
       "    </tr>\n",
       "  </tbody>\n",
       "</table>\n",
       "</div>"
      ],
      "text/plain": [
       "        id  age  segment vintage_group\n",
       "0  CC25034   35  Diamond           VG1\n",
       "1  CC59625   22  Diamond           VG1\n",
       "2  CC69314   33  Diamond           VG1\n",
       "3  CC67036   46  Diamond           VG1\n",
       "4  CC25597   44  Diamond           VG1\n",
       "5  CC57469   22  Diamond           VG1\n",
       "6  CC15926   50  Diamond           VG1\n",
       "7  CC31951   46  Diamond           VG1\n",
       "8  CC32388   26  Diamond           VG1\n",
       "9  CC48802   44  Diamond           VG1"
      ]
     },
     "execution_count": 2,
     "metadata": {},
     "output_type": "execute_result"
    }
   ],
   "source": [
    "#creating the dataframe\n",
    "dfCustomers = pd.read_csv(\"dataset-customers.csv\", sep=\";\")\n",
    "\n",
    "#view the first 10 lines\n",
    "dfCustomers.head(10)"
   ]
  },
  {
   "cell_type": "code",
   "execution_count": 3,
   "metadata": {},
   "outputs": [
    {
     "data": {
      "text/plain": [
       "(5674, 4)"
      ]
     },
     "execution_count": 3,
     "metadata": {},
     "output_type": "execute_result"
    }
   ],
   "source": [
    "#view size(5674 rows, 4 columns)\n",
    "dfCustomers.shape"
   ]
  },
  {
   "cell_type": "code",
   "execution_count": 4,
   "metadata": {},
   "outputs": [
    {
     "data": {
      "text/plain": [
       "count    5674.000000\n",
       "mean       35.059922\n",
       "std         8.962637\n",
       "min        20.000000\n",
       "25%        27.000000\n",
       "50%        35.000000\n",
       "75%        43.000000\n",
       "max        50.000000\n",
       "Name: age, dtype: float64"
      ]
     },
     "execution_count": 4,
     "metadata": {},
     "output_type": "execute_result"
    }
   ],
   "source": [
    "#describe age\n",
    "#In this dataset, with respect to age, the age minimum is 20 years old, the age max is 50 and the mean is 35 years old.\n",
    "dfCustomers['age'].describe()"
   ]
  },
  {
   "cell_type": "code",
   "execution_count": 5,
   "metadata": {},
   "outputs": [
    {
     "data": {
      "text/plain": [
       "age\n",
       "20    193\n",
       "21    171\n",
       "22    168\n",
       "23    185\n",
       "24    179\n",
       "25    196\n",
       "26    167\n",
       "27    214\n",
       "28    164\n",
       "29    192\n",
       "30    168\n",
       "31    174\n",
       "32    205\n",
       "33    170\n",
       "34    179\n",
       "35    187\n",
       "36    195\n",
       "37    185\n",
       "38    190\n",
       "39    171\n",
       "40    188\n",
       "41    188\n",
       "42    174\n",
       "43    180\n",
       "44    171\n",
       "45    183\n",
       "46    174\n",
       "47    191\n",
       "48    184\n",
       "49    185\n",
       "50    203\n",
       "dtype: int64"
      ]
     },
     "execution_count": 5,
     "metadata": {},
     "output_type": "execute_result"
    }
   ],
   "source": [
    "#view each age by number of customers.\n",
    "grouped = dfCustomers.groupby(['age']).size()\n",
    "grouped"
   ]
  },
  {
   "cell_type": "code",
   "execution_count": 6,
   "metadata": {},
   "outputs": [
    {
     "data": {
      "text/plain": [
       "<matplotlib.axes._subplots.AxesSubplot at 0x2b02b04f1c0>"
      ]
     },
     "execution_count": 6,
     "metadata": {},
     "output_type": "execute_result"
    },
    {
     "data": {
      "image/png": "[encoded data removed]",
      "text/plain": [
       "<Figure size 432x288 with 1 Axes>"
      ]
     },
     "metadata": {
      "needs_background": "light"
     },
     "output_type": "display_data"
    }
   ],
   "source": [
    "#despite the mean age of the customers being 35 years old, we can see that it is very similar to the number of customers for each age.\n",
    "sns.countplot(x='age', data=dfCustomers)\n"
   ]
  },
  {
   "cell_type": "code",
   "execution_count": null,
   "metadata": {},
   "outputs": [],
   "source": []
  }
 ],
 "metadata": {
  "kernelspec": {
   "display_name": "Python 3",
   "language": "python",
   "name": "python3"
  },
  "language_info": {
   "codemirror_mode": {
    "name": "ipython",
    "version": 3
   },
   "file_extension": ".py",
   "mimetype": "text/x-python",
   "name": "python",
   "nbconvert_exporter": "python",
   "pygments_lexer": "ipython3",
   "version": "3.8.3"
  }
 },
 "nbformat": 4,
 "nbformat_minor": 4
}
